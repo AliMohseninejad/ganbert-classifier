{
 "cells": [
  {
   "cell_type": "markdown",
   "metadata": {},
   "source": [
    "# Set up colab environment"
   ]
  },
  {
   "cell_type": "code",
   "execution_count": null,
   "metadata": {},
   "outputs": [],
   "source": [
    "!git clone https://{GITHUB_ACCESS_TOKEN}@github.com/AliMohseninejad/ganbert-classifier.git\n",
    "!rm ganbert-classifier/Codes/main.ipynb\n",
    "!cp -r ganbert-classifier/Codes/data/ ./\n",
    "!cp -r ganbert-classifier/Codes/evaluation/ ./\n",
    "!cp -r ganbert-classifier/Codes/model/ ./\n",
    "!cp -r ganbert-classifier/Codes/training/ ./\n",
    "!cp -r ganbert-classifier/Dataset/ ../\n",
    "!cp -r ganbert-classifier/Plots/ ../"
   ]
  },
  {
   "cell_type": "code",
   "execution_count": null,
   "metadata": {},
   "outputs": [],
   "source": [
    "!pip install -qU transformers"
   ]
  },
  {
   "cell_type": "markdown",
   "metadata": {},
   "source": [
    "# Vanilla BERT"
   ]
  },
  {
   "cell_type": "code",
   "execution_count": null,
   "metadata": {},
   "outputs": [],
   "source": [
    "import torch\n",
    "\n",
    "from data.data_loader import generate_dataloader\n",
    "from model.bert import get_bert_model\n",
    "from model.bert import get_tokenizer\n",
    "from model.discriminator import Discriminator\n",
    "from training.train import train_vanilla_classier"
   ]
  },
  {
   "cell_type": "code",
   "execution_count": null,
   "metadata": {},
   "outputs": [],
   "source": [
    "learning_rate = 5e-5\n",
    "model_name = \"bert-base-cased\"\n",
    "bert_tokenizer, bert_config = get_tokenizer(model_name=model_name)"
   ]
  },
  {
   "cell_type": "code",
   "execution_count": null,
   "metadata": {},
   "outputs": [],
   "source": [
    "for unsupervised_ratio in [0.99, 0.95, 0.90, 0.50]:\n",
    "    bert_model, _ = get_bert_model(model_name=model_name)\n",
    "    classifier = Discriminator()\n",
    "\n",
    "    # Get dataloaders\n",
    "    train_dataloader, val_dataloader, test_dataloader = generate_dataloader(\n",
    "        dataset_folder_path=\"../Dataset/\",\n",
    "        unsupervised_ratio=unsupervised_ratio,\n",
    "        tokenizer=bert_tokenizer,\n",
    "        train_batch_size=4,\n",
    "        valid_batch_size=4,\n",
    "        test_batch_size=4,\n",
    "        use_bow_dataset=False,\n",
    "        random_seed=42,\n",
    "    )\n",
    "\n",
    "    # Define optimizer\n",
    "    model_params = [v for v in bert_model.parameters()] + [\n",
    "        v for v in classifier.parameters()\n",
    "    ]\n",
    "    optimizer = torch.optim.AdamW(model_params, lr=learning_rate)\n",
    "\n",
    "    # Train the model\n",
    "    bert_model, classifier, training_results = train_vanilla_classier(\n",
    "        transformer=bert_model,\n",
    "        classifier=classifier,\n",
    "        optimizer=optimizer,\n",
    "        epochs=10,\n",
    "        scheduler=None,\n",
    "        train_dataloader=train_dataloader,\n",
    "        validation_dataloader=val_dataloader,\n",
    "        save_path=\"../Plots/\",\n",
    "    )\n",
    "\n",
    "    # Test the model\n",
    "\n",
    "    # Visualize results\n"
   ]
  },
  {
   "cell_type": "code",
   "execution_count": null,
   "metadata": {},
   "outputs": [],
   "source": []
  }
 ],
 "metadata": {
  "language_info": {
   "name": "python"
  }
 },
 "nbformat": 4,
 "nbformat_minor": 2
}
